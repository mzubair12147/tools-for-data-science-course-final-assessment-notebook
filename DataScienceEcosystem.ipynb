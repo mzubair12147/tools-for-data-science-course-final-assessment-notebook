{
 "cells": [
  {
   "cell_type": "markdown",
   "id": "22856341-afe8-4c87-9dd2-a80ffaa71549",
   "metadata": {},
   "source": [
    "# Data Science Tools and Ecosystem"
   ]
  },
  {
   "cell_type": "markdown",
   "id": "58b9e9b5-379f-46a6-807c-1a8d93fea551",
   "metadata": {},
   "source": [
    "In this notebook, Data Science Tools and Ecosystem are summarized."
   ]
  },
  {
   "cell_type": "markdown",
   "id": "77579cbd-0e20-43a7-bfd1-98ee89d1631b",
   "metadata": {},
   "source": [
    "___Objectives:___\n",
    "+ List popular languages for Data Science\n",
    "+ List popular packages for Data Science\n",
    "+ Popular Open Source tools for Data Science"
   ]
  },
  {
   "cell_type": "markdown",
   "id": "9d54b391-da3b-4c6b-8e51-6dcf7ced4333",
   "metadata": {},
   "source": [
    "Some of the popular languages that Data Scientists use are:\n",
    "1. Python\n",
    "2. R\n",
    "3. SQL"
   ]
  },
  {
   "cell_type": "markdown",
   "id": "3fd487b6-b255-49bf-9739-7c4b595802f4",
   "metadata": {},
   "source": [
    "Some of the commonly used libraries used by Data Scientists include:\n",
    "1. numpy\n",
    "2. pandas\n",
    "3. matplotlib"
   ]
  },
  {
   "cell_type": "markdown",
   "id": "cc4872f3-e9d8-42c7-89ac-aba48a290b40",
   "metadata": {},
   "source": [
    "| Data Science Tools |\n",
    "| -------------------|\n",
    "| RStudio|\n",
    "| Apache Spark |\n",
    "| TensorFlow|"
   ]
  },
  {
   "cell_type": "markdown",
   "id": "61e4b3e2-4b8e-4f50-a639-50df5a04454e",
   "metadata": {},
   "source": [
    "### Below are a few examples of evaluating arithmetic expressions in Python."
   ]
  },
  {
   "cell_type": "code",
   "execution_count": 3,
   "id": "5b269a2a-848f-4cb3-87d5-45d2ccd6d017",
   "metadata": {},
   "outputs": [
    {
     "data": {
      "text/plain": [
       "17"
      ]
     },
     "execution_count": 3,
     "metadata": {},
     "output_type": "execute_result"
    }
   ],
   "source": [
    "# This a simple arithmetic expression to mutiply then add integers\n",
    "(3*4)+5"
   ]
  },
  {
   "cell_type": "code",
   "execution_count": 4,
   "id": "86eecd89-650b-4405-a267-fc35421d68c2",
   "metadata": {},
   "outputs": [
    {
     "name": "stdout",
     "output_type": "stream",
     "text": [
      "3.3333333333333335\n"
     ]
    }
   ],
   "source": [
    "minutes = 200\n",
    "hours = minutes / 60\n",
    "print(hours)"
   ]
  },
  {
   "cell_type": "markdown",
   "id": "91b27144-ea23-4632-bf01-f7e301459a8e",
   "metadata": {},
   "source": [
    "## Author: \n",
    "Muhammad Zubair"
   ]
  },
  {
   "cell_type": "code",
   "execution_count": null,
   "id": "af8bdb6c-8e29-42a4-880e-75ba3c6244f1",
   "metadata": {},
   "outputs": [],
   "source": []
  }
 ],
 "metadata": {
  "kernelspec": {
   "display_name": "Python 3 (ipykernel)",
   "language": "python",
   "name": "python3"
  },
  "language_info": {
   "codemirror_mode": {
    "name": "ipython",
    "version": 3
   },
   "file_extension": ".py",
   "mimetype": "text/x-python",
   "name": "python",
   "nbconvert_exporter": "python",
   "pygments_lexer": "ipython3",
   "version": "3.12.8"
  }
 },
 "nbformat": 4,
 "nbformat_minor": 5
}
